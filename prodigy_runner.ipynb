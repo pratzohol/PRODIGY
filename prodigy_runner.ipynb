{
 "cells": [
  {
   "cell_type": "markdown",
   "metadata": {},
   "source": [
    "# **1. Importing MAG240M and ogbn_arxiv Dataset**"
   ]
  },
  {
   "cell_type": "code",
   "execution_count": null,
   "metadata": {},
   "outputs": [],
   "source": [
    "from ogb.lsc import MAG240MDataset\n",
    "from ogb.nodeproppred import PygNodePropPredDataset\n",
    "\n",
    "root = \"F:/Datasets/\"\n",
    "\n",
    "# https://dgl-data.s3-accelerate.amazonaws.com/dataset/OGB-LSC/mag240m_kddcup2021.zip\n",
    "mag240m_dataset = MAG240MDataset(root=root) \n",
    "ogbn_arxiv = PygNodePropPredDataset(\"ogbn-arxiv\", root=root)\n",
    "\n",
    "# FB15K - http://snap.stanford.edu/prodigy/FB15K-237.zip\n",
    "# Wiki - http://snap.stanford.edu/prodigy/Wiki.zip"
   ]
  }
 ],
 "metadata": {
  "kernelspec": {
   "display_name": "tf_torch_pyg",
   "language": "python",
   "name": "python3"
  },
  "language_info": {
   "codemirror_mode": {
    "name": "ipython",
    "version": 3
   },
   "file_extension": ".py",
   "mimetype": "text/x-python",
   "name": "python",
   "nbconvert_exporter": "python",
   "pygments_lexer": "ipython3",
   "version": "3.10.6"
  },
  "orig_nbformat": 4
 },
 "nbformat": 4,
 "nbformat_minor": 2
}
