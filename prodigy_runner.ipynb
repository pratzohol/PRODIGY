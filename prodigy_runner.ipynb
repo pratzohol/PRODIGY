{
 "cells": [
  {
   "cell_type": "markdown",
   "metadata": {},
   "source": [
    "# **1. Importing MAG240M and ogbn_arxiv Dataset**"
   ]
  },
  {
   "cell_type": "code",
   "execution_count": 1,
   "metadata": {},
   "outputs": [],
   "source": [
    "from ogb.lsc import MAG240MDataset\n",
    "from ogb.nodeproppred import PygNodePropPredDataset\n",
    "\n",
    "root = \"F:/Datasets/\"\n",
    "\n",
    "mag240m_dataset = MAG240MDataset(root=root)\n",
    "ogbn_arxiv = PygNodePropPredDataset(\"ogbn-arxiv\", root=root)"
   ]
  },
  {
   "cell_type": "code",
   "execution_count": 13,
   "metadata": {},
   "outputs": [
    {
     "data": {
      "text/plain": [
       "121751666"
      ]
     },
     "execution_count": 13,
     "metadata": {},
     "output_type": "execute_result"
    }
   ],
   "source": [
    "mag240m_dataset.num_papers"
   ]
  }
 ],
 "metadata": {
  "kernelspec": {
   "display_name": "tf_torch_pyg",
   "language": "python",
   "name": "python3"
  },
  "language_info": {
   "codemirror_mode": {
    "name": "ipython",
    "version": 3
   },
   "file_extension": ".py",
   "mimetype": "text/x-python",
   "name": "python",
   "nbconvert_exporter": "python",
   "pygments_lexer": "ipython3",
   "version": "3.9.13"
  },
  "orig_nbformat": 4
 },
 "nbformat": 4,
 "nbformat_minor": 2
}
